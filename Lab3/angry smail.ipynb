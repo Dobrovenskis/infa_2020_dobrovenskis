{
 "cells": [
  {
   "cell_type": "code",
   "execution_count": 3,
   "metadata": {},
   "outputs": [],
   "source": [
    "import pygame\n",
    "from pygame.draw import *\n",
    "import numpy as np\n",
    "\n",
    "\n",
    "def brow(x_b, y_b, ling, wight, angle):\n",
    "    polygon(screen, BLACK, [(x_b, y_b), (int(x_b - ling*np.cos(angle)), int(y_b - ling*np.sin(angle))), \\\n",
    "                           (x_b - int(ling*np.cos(angle) - wight*np.sin(angle)),int(y_b - ling*np.sin(angle) - wight*np.cos(angle))), \\\n",
    "                           (x_b + int(wight*np.sin(angle)), y_b - int(wight*np.cos(angle))), (x_b, y_b)])\n",
    "    \n",
    "pygame.init()\n",
    "\n",
    "FPS = 30\n",
    "screen = pygame.display.set_mode((400, 400))\n",
    "RED = (255, 0, 0)\n",
    "BLACK = (0, 0, 0)\n",
    "YEL = (255, 255, 0)\n",
    "x = 200\n",
    "y = 200\n",
    "z = 1\n",
    "\n",
    "rect(screen, (255//(1.4), 225//(1.4), 255//(1.4)), (0, 0, 400, 400))\n",
    "\n",
    "circle(screen, YEL, (x, y), 100//z)\n",
    "\n",
    "circle(screen, RED, (x - 50//z, y - 25//z), 30//z)\n",
    "circle(screen, BLACK, (x - 50//z, y - 25//z), 30//z, 1)\n",
    "circle(screen, BLACK, (x - 50//z, y - 25//z), 10//z)\n",
    "\n",
    "circle(screen, RED, (x + 50//z, y - 25//z), 20//z)\n",
    "circle(screen, BLACK, (x + 50//z, y - 25//z), 20//z, 1)\n",
    "circle(screen, BLACK, (x + 50//z, y- 25//z), 10//z)\n",
    "\n",
    "rect(screen, BLACK, (x - 50//z, y + 50//z, 100//z, 20//z))\n",
    "brow(x - 20//z,y - 30//z, 100//z, 10//z, 0.7)\n",
    "brow(x + 20//z, y - 30//z, 100//z, 10//z, 2)\n",
    "\n",
    "pygame.display.update()\n",
    "clock = pygame.time.Clock()\n",
    "finished = False\n",
    "\n",
    "while not finished:\n",
    "    clock.tick(FPS)\n",
    "    for event in pygame.event.get():\n",
    "        if event.type == pygame.QUIT:\n",
    "            finished = True\n",
    "\n",
    "pygame.quit()"
   ]
  },
  {
   "cell_type": "code",
   "execution_count": 1,
   "metadata": {},
   "outputs": [
    {
     "ename": "NameError",
     "evalue": "name 'pygame' is not defined",
     "output_type": "error",
     "traceback": [
      "\u001b[1;31m---------------------------------------------------------------------------\u001b[0m",
      "\u001b[1;31mNameError\u001b[0m                                 Traceback (most recent call last)",
      "\u001b[1;32m<ipython-input-1-a65cab5dafa9>\u001b[0m in \u001b[0;36m<module>\u001b[1;34m\u001b[0m\n\u001b[1;32m----> 1\u001b[1;33m \u001b[0mpygame\u001b[0m\u001b[1;33m.\u001b[0m\u001b[0mimage\u001b[0m\u001b[1;33m.\u001b[0m\u001b[0msave\u001b[0m\u001b[1;33m(\u001b[0m\u001b[0mscreen\u001b[0m\u001b[1;33m,\u001b[0m \u001b[1;34m'angry smile.png'\u001b[0m\u001b[1;33m)\u001b[0m\u001b[1;33m\u001b[0m\u001b[1;33m\u001b[0m\u001b[0m\n\u001b[0m",
      "\u001b[1;31mNameError\u001b[0m: name 'pygame' is not defined"
     ]
    }
   ],
   "source": []
  },
  {
   "cell_type": "code",
   "execution_count": null,
   "metadata": {},
   "outputs": [],
   "source": []
  }
 ],
 "metadata": {
  "kernelspec": {
   "display_name": "Python 3",
   "language": "python",
   "name": "python3"
  },
  "language_info": {
   "codemirror_mode": {
    "name": "ipython",
    "version": 3
   },
   "file_extension": ".py",
   "mimetype": "text/x-python",
   "name": "python",
   "nbconvert_exporter": "python",
   "pygments_lexer": "ipython3",
   "version": "3.8.3"
  }
 },
 "nbformat": 4,
 "nbformat_minor": 4
}
