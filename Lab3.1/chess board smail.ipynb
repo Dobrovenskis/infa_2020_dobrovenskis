{
 "cells": [
  {
   "cell_type": "code",
   "execution_count": 1,
   "metadata": {},
   "outputs": [
    {
     "name": "stdout",
     "output_type": "stream",
     "text": [
      "pygame 1.9.6\n",
      "Hello from the pygame community. https://www.pygame.org/contribute.html\n"
     ]
    }
   ],
   "source": [
    "import pygame\n",
    "from pygame.draw import *\n",
    "import numpy as np\n",
    "\n",
    "\n",
    "def brow(x_b, y_b, ling, wight, angle):\n",
    "    polygon(screen, BLACK, [(x_b, y_b), (int(x_b - ling*np.cos(angle)), int(y_b - ling*np.sin(angle))), \\\n",
    "                           (x_b - int(ling*np.cos(angle) - wight*np.sin(angle)),int(y_b - ling*np.sin(angle) - wight*np.cos(angle))), \\\n",
    "                           (x_b + int(wight*np.sin(angle)), y_b - int(wight*np.cos(angle))), (x_b, y_b)])\n",
    "    \n",
    "pygame.init()\n",
    "\n",
    "FPS = 30\n",
    "screen = pygame.display.set_mode((400, 400))\n",
    "RED = (255, 0, 0)\n",
    "BLACK = (0, 0, 0)\n",
    "YEL = (255, 255, 0)\n",
    "rect(screen, (255//(1.4), 225//(1.4), 255//(1.4)), (0, 0, 400, 400))\n",
    "\n",
    "\n",
    "\n",
    "def smail(x,y,z):\n",
    "    circle(screen, YEL, (x, y), 100//z)\n",
    "    \n",
    "    circle(screen, RED, (x - 50//z, y - 25//z), 30//z)\n",
    "    circle(screen, BLACK, (x - 50//z, y - 25//z), 30//z, 1)\n",
    "    circle(screen, BLACK, (x - 50//z, y - 25//z), 10//z)\n",
    "    \n",
    "    circle(screen, RED, (x + 50//z, y - 25//z), 20//z)\n",
    "    circle(screen, BLACK, (x + 50//z, y - 25//z), 20//z, 1)\n",
    "    circle(screen, BLACK, (x + 50//z, y- 25//z), 10//z)\n",
    "    \n",
    "    rect(screen, BLACK, (x - 50//z, y + 50//z, 100//z, 20//z))\n",
    "    brow(x - 20//z,y - 30//z, 100//z, 10//z, 0.7)\n",
    "    brow(x + 20//z, y - 30//z, 100//z, 10//z, 2)\n",
    "    \n",
    "for i in range(4):\n",
    "    for k in range(6):\n",
    "        if (k + i) % 2 == 0:\n",
    "            smail(400//12 + 400//6*k,400//12 + 400//4*i, 6)\n",
    "        else:\n",
    "            smail(400//12 + 400//6*k, 400//12 + 400//4*i, 3)\n",
    "pygame.display.update()\n",
    "clock = pygame.time.Clock()\n",
    "finished = False\n",
    "\n",
    "while not finished:\n",
    "    clock.tick(FPS)\n",
    "    for event in pygame.event.get():\n",
    "        if event.type == pygame.QUIT:\n",
    "            finished = True\n",
    "\n",
    "pygame.quit()"
   ]
  },
  {
   "cell_type": "code",
   "execution_count": null,
   "metadata": {},
   "outputs": [],
   "source": []
  }
 ],
 "metadata": {
  "kernelspec": {
   "display_name": "Python 3",
   "language": "python",
   "name": "python3"
  },
  "language_info": {
   "codemirror_mode": {
    "name": "ipython",
    "version": 3
   },
   "file_extension": ".py",
   "mimetype": "text/x-python",
   "name": "python",
   "nbconvert_exporter": "python",
   "pygments_lexer": "ipython3",
   "version": "3.8.3"
  }
 },
 "nbformat": 4,
 "nbformat_minor": 4
}
